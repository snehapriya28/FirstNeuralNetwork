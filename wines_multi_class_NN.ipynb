{
  "cells": [
    {
      "cell_type": "code",
      "execution_count": null,
      "id": "09911d44",
      "metadata": {
        "id": "09911d44"
      },
      "outputs": [],
      "source": [
        "import pandas as pd"
      ]
    },
    {
      "cell_type": "code",
      "execution_count": null,
      "id": "3ef8a1ea",
      "metadata": {
        "id": "3ef8a1ea"
      },
      "outputs": [],
      "source": [
        "dataset = pd.read_csv('wines.csv')"
      ]
    },
    {
      "cell_type": "code",
      "execution_count": null,
      "id": "a5a5ec64",
      "metadata": {
        "id": "a5a5ec64",
        "outputId": "fd138374-4190-4abb-d4ae-5043a4c0e869"
      },
      "outputs": [
        {
          "data": {
            "text/html": [
              "<div>\n",
              "<style scoped>\n",
              "    .dataframe tbody tr th:only-of-type {\n",
              "        vertical-align: middle;\n",
              "    }\n",
              "\n",
              "    .dataframe tbody tr th {\n",
              "        vertical-align: top;\n",
              "    }\n",
              "\n",
              "    .dataframe thead th {\n",
              "        text-align: right;\n",
              "    }\n",
              "</style>\n",
              "<table border=\"1\" class=\"dataframe\">\n",
              "  <thead>\n",
              "    <tr style=\"text-align: right;\">\n",
              "      <th></th>\n",
              "      <th>Class</th>\n",
              "      <th>Alcohol</th>\n",
              "      <th>Malic_acid</th>\n",
              "      <th>Ash</th>\n",
              "      <th>Alcalinity_of_ash</th>\n",
              "      <th>Magnesium</th>\n",
              "      <th>Total_phenols</th>\n",
              "      <th>Flavanoids</th>\n",
              "      <th>Nonflavanoid_phenols</th>\n",
              "      <th>Proanthocyanins</th>\n",
              "      <th>Color_intensity</th>\n",
              "      <th>Hue</th>\n",
              "      <th>OD280-OD315_of_diluted_wines</th>\n",
              "      <th>Proline</th>\n",
              "    </tr>\n",
              "  </thead>\n",
              "  <tbody>\n",
              "    <tr>\n",
              "      <th>0</th>\n",
              "      <td>1</td>\n",
              "      <td>14.23</td>\n",
              "      <td>1.71</td>\n",
              "      <td>2.43</td>\n",
              "      <td>15.6</td>\n",
              "      <td>127</td>\n",
              "      <td>2.80</td>\n",
              "      <td>3.06</td>\n",
              "      <td>0.28</td>\n",
              "      <td>2.29</td>\n",
              "      <td>5.64</td>\n",
              "      <td>1.04</td>\n",
              "      <td>3.92</td>\n",
              "      <td>1065</td>\n",
              "    </tr>\n",
              "    <tr>\n",
              "      <th>1</th>\n",
              "      <td>1</td>\n",
              "      <td>13.20</td>\n",
              "      <td>1.78</td>\n",
              "      <td>2.14</td>\n",
              "      <td>11.2</td>\n",
              "      <td>100</td>\n",
              "      <td>2.65</td>\n",
              "      <td>2.76</td>\n",
              "      <td>0.26</td>\n",
              "      <td>1.28</td>\n",
              "      <td>4.38</td>\n",
              "      <td>1.05</td>\n",
              "      <td>3.40</td>\n",
              "      <td>1050</td>\n",
              "    </tr>\n",
              "    <tr>\n",
              "      <th>2</th>\n",
              "      <td>1</td>\n",
              "      <td>13.16</td>\n",
              "      <td>2.36</td>\n",
              "      <td>2.67</td>\n",
              "      <td>18.6</td>\n",
              "      <td>101</td>\n",
              "      <td>2.80</td>\n",
              "      <td>3.24</td>\n",
              "      <td>0.30</td>\n",
              "      <td>2.81</td>\n",
              "      <td>5.68</td>\n",
              "      <td>1.03</td>\n",
              "      <td>3.17</td>\n",
              "      <td>1185</td>\n",
              "    </tr>\n",
              "    <tr>\n",
              "      <th>3</th>\n",
              "      <td>1</td>\n",
              "      <td>14.37</td>\n",
              "      <td>1.95</td>\n",
              "      <td>2.50</td>\n",
              "      <td>16.8</td>\n",
              "      <td>113</td>\n",
              "      <td>3.85</td>\n",
              "      <td>3.49</td>\n",
              "      <td>0.24</td>\n",
              "      <td>2.18</td>\n",
              "      <td>7.80</td>\n",
              "      <td>0.86</td>\n",
              "      <td>3.45</td>\n",
              "      <td>1480</td>\n",
              "    </tr>\n",
              "    <tr>\n",
              "      <th>4</th>\n",
              "      <td>1</td>\n",
              "      <td>13.24</td>\n",
              "      <td>2.59</td>\n",
              "      <td>2.87</td>\n",
              "      <td>21.0</td>\n",
              "      <td>118</td>\n",
              "      <td>2.80</td>\n",
              "      <td>2.69</td>\n",
              "      <td>0.39</td>\n",
              "      <td>1.82</td>\n",
              "      <td>4.32</td>\n",
              "      <td>1.04</td>\n",
              "      <td>2.93</td>\n",
              "      <td>735</td>\n",
              "    </tr>\n",
              "    <tr>\n",
              "      <th>...</th>\n",
              "      <td>...</td>\n",
              "      <td>...</td>\n",
              "      <td>...</td>\n",
              "      <td>...</td>\n",
              "      <td>...</td>\n",
              "      <td>...</td>\n",
              "      <td>...</td>\n",
              "      <td>...</td>\n",
              "      <td>...</td>\n",
              "      <td>...</td>\n",
              "      <td>...</td>\n",
              "      <td>...</td>\n",
              "      <td>...</td>\n",
              "      <td>...</td>\n",
              "    </tr>\n",
              "    <tr>\n",
              "      <th>173</th>\n",
              "      <td>3</td>\n",
              "      <td>13.71</td>\n",
              "      <td>5.65</td>\n",
              "      <td>2.45</td>\n",
              "      <td>20.5</td>\n",
              "      <td>95</td>\n",
              "      <td>1.68</td>\n",
              "      <td>0.61</td>\n",
              "      <td>0.52</td>\n",
              "      <td>1.06</td>\n",
              "      <td>7.70</td>\n",
              "      <td>0.64</td>\n",
              "      <td>1.74</td>\n",
              "      <td>740</td>\n",
              "    </tr>\n",
              "    <tr>\n",
              "      <th>174</th>\n",
              "      <td>3</td>\n",
              "      <td>13.40</td>\n",
              "      <td>3.91</td>\n",
              "      <td>2.48</td>\n",
              "      <td>23.0</td>\n",
              "      <td>102</td>\n",
              "      <td>1.80</td>\n",
              "      <td>0.75</td>\n",
              "      <td>0.43</td>\n",
              "      <td>1.41</td>\n",
              "      <td>7.30</td>\n",
              "      <td>0.70</td>\n",
              "      <td>1.56</td>\n",
              "      <td>750</td>\n",
              "    </tr>\n",
              "    <tr>\n",
              "      <th>175</th>\n",
              "      <td>3</td>\n",
              "      <td>13.27</td>\n",
              "      <td>4.28</td>\n",
              "      <td>2.26</td>\n",
              "      <td>20.0</td>\n",
              "      <td>120</td>\n",
              "      <td>1.59</td>\n",
              "      <td>0.69</td>\n",
              "      <td>0.43</td>\n",
              "      <td>1.35</td>\n",
              "      <td>10.20</td>\n",
              "      <td>0.59</td>\n",
              "      <td>1.56</td>\n",
              "      <td>835</td>\n",
              "    </tr>\n",
              "    <tr>\n",
              "      <th>176</th>\n",
              "      <td>3</td>\n",
              "      <td>13.17</td>\n",
              "      <td>2.59</td>\n",
              "      <td>2.37</td>\n",
              "      <td>20.0</td>\n",
              "      <td>120</td>\n",
              "      <td>1.65</td>\n",
              "      <td>0.68</td>\n",
              "      <td>0.53</td>\n",
              "      <td>1.46</td>\n",
              "      <td>9.30</td>\n",
              "      <td>0.60</td>\n",
              "      <td>1.62</td>\n",
              "      <td>840</td>\n",
              "    </tr>\n",
              "    <tr>\n",
              "      <th>177</th>\n",
              "      <td>3</td>\n",
              "      <td>14.13</td>\n",
              "      <td>4.10</td>\n",
              "      <td>2.74</td>\n",
              "      <td>24.5</td>\n",
              "      <td>96</td>\n",
              "      <td>2.05</td>\n",
              "      <td>0.76</td>\n",
              "      <td>0.56</td>\n",
              "      <td>1.35</td>\n",
              "      <td>9.20</td>\n",
              "      <td>0.61</td>\n",
              "      <td>1.60</td>\n",
              "      <td>560</td>\n",
              "    </tr>\n",
              "  </tbody>\n",
              "</table>\n",
              "<p>178 rows × 14 columns</p>\n",
              "</div>"
            ],
            "text/plain": [
              "     Class  Alcohol  Malic_acid   Ash  Alcalinity_of_ash  Magnesium  \\\n",
              "0        1    14.23        1.71  2.43               15.6        127   \n",
              "1        1    13.20        1.78  2.14               11.2        100   \n",
              "2        1    13.16        2.36  2.67               18.6        101   \n",
              "3        1    14.37        1.95  2.50               16.8        113   \n",
              "4        1    13.24        2.59  2.87               21.0        118   \n",
              "..     ...      ...         ...   ...                ...        ...   \n",
              "173      3    13.71        5.65  2.45               20.5         95   \n",
              "174      3    13.40        3.91  2.48               23.0        102   \n",
              "175      3    13.27        4.28  2.26               20.0        120   \n",
              "176      3    13.17        2.59  2.37               20.0        120   \n",
              "177      3    14.13        4.10  2.74               24.5         96   \n",
              "\n",
              "     Total_phenols  Flavanoids  Nonflavanoid_phenols  Proanthocyanins  \\\n",
              "0             2.80        3.06                  0.28             2.29   \n",
              "1             2.65        2.76                  0.26             1.28   \n",
              "2             2.80        3.24                  0.30             2.81   \n",
              "3             3.85        3.49                  0.24             2.18   \n",
              "4             2.80        2.69                  0.39             1.82   \n",
              "..             ...         ...                   ...              ...   \n",
              "173           1.68        0.61                  0.52             1.06   \n",
              "174           1.80        0.75                  0.43             1.41   \n",
              "175           1.59        0.69                  0.43             1.35   \n",
              "176           1.65        0.68                  0.53             1.46   \n",
              "177           2.05        0.76                  0.56             1.35   \n",
              "\n",
              "     Color_intensity   Hue  OD280-OD315_of_diluted_wines  Proline  \n",
              "0               5.64  1.04                          3.92     1065  \n",
              "1               4.38  1.05                          3.40     1050  \n",
              "2               5.68  1.03                          3.17     1185  \n",
              "3               7.80  0.86                          3.45     1480  \n",
              "4               4.32  1.04                          2.93      735  \n",
              "..               ...   ...                           ...      ...  \n",
              "173             7.70  0.64                          1.74      740  \n",
              "174             7.30  0.70                          1.56      750  \n",
              "175            10.20  0.59                          1.56      835  \n",
              "176             9.30  0.60                          1.62      840  \n",
              "177             9.20  0.61                          1.60      560  \n",
              "\n",
              "[178 rows x 14 columns]"
            ]
          },
          "execution_count": 3,
          "metadata": {},
          "output_type": "execute_result"
        }
      ],
      "source": [
        "dataset"
      ]
    },
    {
      "cell_type": "code",
      "execution_count": null,
      "id": "84b3863e",
      "metadata": {
        "id": "84b3863e"
      },
      "outputs": [],
      "source": [
        "# MC :::::::  NN :::::  DL"
      ]
    },
    {
      "cell_type": "code",
      "execution_count": null,
      "id": "b9a96ac2",
      "metadata": {
        "id": "b9a96ac2",
        "outputId": "1907d955-225a-4d1a-f151-02f5c7004c0c"
      },
      "outputs": [
        {
          "name": "stdout",
          "output_type": "stream",
          "text": [
            "<class 'pandas.core.frame.DataFrame'>\n",
            "RangeIndex: 178 entries, 0 to 177\n",
            "Data columns (total 14 columns):\n",
            " #   Column                        Non-Null Count  Dtype  \n",
            "---  ------                        --------------  -----  \n",
            " 0   Class                         178 non-null    int64  \n",
            " 1   Alcohol                       178 non-null    float64\n",
            " 2   Malic_acid                    178 non-null    float64\n",
            " 3   Ash                           178 non-null    float64\n",
            " 4   Alcalinity_of_ash             178 non-null    float64\n",
            " 5   Magnesium                     178 non-null    int64  \n",
            " 6   Total_phenols                 178 non-null    float64\n",
            " 7   Flavanoids                    178 non-null    float64\n",
            " 8   Nonflavanoid_phenols          178 non-null    float64\n",
            " 9   Proanthocyanins               178 non-null    float64\n",
            " 10  Color_intensity               178 non-null    float64\n",
            " 11  Hue                           178 non-null    float64\n",
            " 12  OD280-OD315_of_diluted_wines  178 non-null    float64\n",
            " 13  Proline                       178 non-null    int64  \n",
            "dtypes: float64(11), int64(3)\n",
            "memory usage: 19.6 KB\n"
          ]
        }
      ],
      "source": [
        "dataset.info()"
      ]
    },
    {
      "cell_type": "code",
      "execution_count": null,
      "id": "593d3368",
      "metadata": {
        "id": "593d3368",
        "outputId": "3c9f9224-a01f-4c22-9c67-8a172097050b"
      },
      "outputs": [
        {
          "data": {
            "text/plain": [
              "Index(['Class', 'Alcohol', 'Malic_acid', 'Ash', 'Alcalinity_of_ash',\n",
              "       'Magnesium', 'Total_phenols', 'Flavanoids', 'Nonflavanoid_phenols',\n",
              "       'Proanthocyanins', 'Color_intensity', 'Hue',\n",
              "       'OD280-OD315_of_diluted_wines', 'Proline'],\n",
              "      dtype='object')"
            ]
          },
          "execution_count": 6,
          "metadata": {},
          "output_type": "execute_result"
        }
      ],
      "source": [
        "dataset.columns"
      ]
    },
    {
      "cell_type": "code",
      "execution_count": null,
      "id": "bff66b52",
      "metadata": {
        "id": "bff66b52"
      },
      "outputs": [],
      "source": [
        "y = dataset['Class']"
      ]
    },
    {
      "cell_type": "code",
      "execution_count": null,
      "id": "1971bdeb",
      "metadata": {
        "id": "1971bdeb"
      },
      "outputs": [],
      "source": [
        "X = dataset[['Alcohol', 'Malic_acid', 'Ash', 'Alcalinity_of_ash',\n",
        "       'Magnesium', 'Total_phenols', 'Flavanoids', 'Nonflavanoid_phenols',\n",
        "       'Proanthocyanins', 'Color_intensity', 'Hue',\n",
        "       'OD280-OD315_of_diluted_wines', 'Proline'  ]]"
      ]
    },
    {
      "cell_type": "code",
      "execution_count": null,
      "id": "63aa9efd",
      "metadata": {
        "id": "63aa9efd",
        "outputId": "bca53ae4-0de9-43ac-bbca-7e50f06ac26a"
      },
      "outputs": [
        {
          "data": {
            "text/html": [
              "<div>\n",
              "<style scoped>\n",
              "    .dataframe tbody tr th:only-of-type {\n",
              "        vertical-align: middle;\n",
              "    }\n",
              "\n",
              "    .dataframe tbody tr th {\n",
              "        vertical-align: top;\n",
              "    }\n",
              "\n",
              "    .dataframe thead th {\n",
              "        text-align: right;\n",
              "    }\n",
              "</style>\n",
              "<table border=\"1\" class=\"dataframe\">\n",
              "  <thead>\n",
              "    <tr style=\"text-align: right;\">\n",
              "      <th></th>\n",
              "      <th>Alcohol</th>\n",
              "      <th>Malic_acid</th>\n",
              "      <th>Ash</th>\n",
              "      <th>Alcalinity_of_ash</th>\n",
              "      <th>Magnesium</th>\n",
              "      <th>Total_phenols</th>\n",
              "      <th>Flavanoids</th>\n",
              "      <th>Nonflavanoid_phenols</th>\n",
              "      <th>Proanthocyanins</th>\n",
              "      <th>Color_intensity</th>\n",
              "      <th>Hue</th>\n",
              "      <th>OD280-OD315_of_diluted_wines</th>\n",
              "      <th>Proline</th>\n",
              "    </tr>\n",
              "  </thead>\n",
              "  <tbody>\n",
              "    <tr>\n",
              "      <th>0</th>\n",
              "      <td>14.23</td>\n",
              "      <td>1.71</td>\n",
              "      <td>2.43</td>\n",
              "      <td>15.6</td>\n",
              "      <td>127</td>\n",
              "      <td>2.80</td>\n",
              "      <td>3.06</td>\n",
              "      <td>0.28</td>\n",
              "      <td>2.29</td>\n",
              "      <td>5.64</td>\n",
              "      <td>1.04</td>\n",
              "      <td>3.92</td>\n",
              "      <td>1065</td>\n",
              "    </tr>\n",
              "    <tr>\n",
              "      <th>1</th>\n",
              "      <td>13.20</td>\n",
              "      <td>1.78</td>\n",
              "      <td>2.14</td>\n",
              "      <td>11.2</td>\n",
              "      <td>100</td>\n",
              "      <td>2.65</td>\n",
              "      <td>2.76</td>\n",
              "      <td>0.26</td>\n",
              "      <td>1.28</td>\n",
              "      <td>4.38</td>\n",
              "      <td>1.05</td>\n",
              "      <td>3.40</td>\n",
              "      <td>1050</td>\n",
              "    </tr>\n",
              "    <tr>\n",
              "      <th>2</th>\n",
              "      <td>13.16</td>\n",
              "      <td>2.36</td>\n",
              "      <td>2.67</td>\n",
              "      <td>18.6</td>\n",
              "      <td>101</td>\n",
              "      <td>2.80</td>\n",
              "      <td>3.24</td>\n",
              "      <td>0.30</td>\n",
              "      <td>2.81</td>\n",
              "      <td>5.68</td>\n",
              "      <td>1.03</td>\n",
              "      <td>3.17</td>\n",
              "      <td>1185</td>\n",
              "    </tr>\n",
              "    <tr>\n",
              "      <th>3</th>\n",
              "      <td>14.37</td>\n",
              "      <td>1.95</td>\n",
              "      <td>2.50</td>\n",
              "      <td>16.8</td>\n",
              "      <td>113</td>\n",
              "      <td>3.85</td>\n",
              "      <td>3.49</td>\n",
              "      <td>0.24</td>\n",
              "      <td>2.18</td>\n",
              "      <td>7.80</td>\n",
              "      <td>0.86</td>\n",
              "      <td>3.45</td>\n",
              "      <td>1480</td>\n",
              "    </tr>\n",
              "    <tr>\n",
              "      <th>4</th>\n",
              "      <td>13.24</td>\n",
              "      <td>2.59</td>\n",
              "      <td>2.87</td>\n",
              "      <td>21.0</td>\n",
              "      <td>118</td>\n",
              "      <td>2.80</td>\n",
              "      <td>2.69</td>\n",
              "      <td>0.39</td>\n",
              "      <td>1.82</td>\n",
              "      <td>4.32</td>\n",
              "      <td>1.04</td>\n",
              "      <td>2.93</td>\n",
              "      <td>735</td>\n",
              "    </tr>\n",
              "    <tr>\n",
              "      <th>...</th>\n",
              "      <td>...</td>\n",
              "      <td>...</td>\n",
              "      <td>...</td>\n",
              "      <td>...</td>\n",
              "      <td>...</td>\n",
              "      <td>...</td>\n",
              "      <td>...</td>\n",
              "      <td>...</td>\n",
              "      <td>...</td>\n",
              "      <td>...</td>\n",
              "      <td>...</td>\n",
              "      <td>...</td>\n",
              "      <td>...</td>\n",
              "    </tr>\n",
              "    <tr>\n",
              "      <th>173</th>\n",
              "      <td>13.71</td>\n",
              "      <td>5.65</td>\n",
              "      <td>2.45</td>\n",
              "      <td>20.5</td>\n",
              "      <td>95</td>\n",
              "      <td>1.68</td>\n",
              "      <td>0.61</td>\n",
              "      <td>0.52</td>\n",
              "      <td>1.06</td>\n",
              "      <td>7.70</td>\n",
              "      <td>0.64</td>\n",
              "      <td>1.74</td>\n",
              "      <td>740</td>\n",
              "    </tr>\n",
              "    <tr>\n",
              "      <th>174</th>\n",
              "      <td>13.40</td>\n",
              "      <td>3.91</td>\n",
              "      <td>2.48</td>\n",
              "      <td>23.0</td>\n",
              "      <td>102</td>\n",
              "      <td>1.80</td>\n",
              "      <td>0.75</td>\n",
              "      <td>0.43</td>\n",
              "      <td>1.41</td>\n",
              "      <td>7.30</td>\n",
              "      <td>0.70</td>\n",
              "      <td>1.56</td>\n",
              "      <td>750</td>\n",
              "    </tr>\n",
              "    <tr>\n",
              "      <th>175</th>\n",
              "      <td>13.27</td>\n",
              "      <td>4.28</td>\n",
              "      <td>2.26</td>\n",
              "      <td>20.0</td>\n",
              "      <td>120</td>\n",
              "      <td>1.59</td>\n",
              "      <td>0.69</td>\n",
              "      <td>0.43</td>\n",
              "      <td>1.35</td>\n",
              "      <td>10.20</td>\n",
              "      <td>0.59</td>\n",
              "      <td>1.56</td>\n",
              "      <td>835</td>\n",
              "    </tr>\n",
              "    <tr>\n",
              "      <th>176</th>\n",
              "      <td>13.17</td>\n",
              "      <td>2.59</td>\n",
              "      <td>2.37</td>\n",
              "      <td>20.0</td>\n",
              "      <td>120</td>\n",
              "      <td>1.65</td>\n",
              "      <td>0.68</td>\n",
              "      <td>0.53</td>\n",
              "      <td>1.46</td>\n",
              "      <td>9.30</td>\n",
              "      <td>0.60</td>\n",
              "      <td>1.62</td>\n",
              "      <td>840</td>\n",
              "    </tr>\n",
              "    <tr>\n",
              "      <th>177</th>\n",
              "      <td>14.13</td>\n",
              "      <td>4.10</td>\n",
              "      <td>2.74</td>\n",
              "      <td>24.5</td>\n",
              "      <td>96</td>\n",
              "      <td>2.05</td>\n",
              "      <td>0.76</td>\n",
              "      <td>0.56</td>\n",
              "      <td>1.35</td>\n",
              "      <td>9.20</td>\n",
              "      <td>0.61</td>\n",
              "      <td>1.60</td>\n",
              "      <td>560</td>\n",
              "    </tr>\n",
              "  </tbody>\n",
              "</table>\n",
              "<p>178 rows × 13 columns</p>\n",
              "</div>"
            ],
            "text/plain": [
              "     Alcohol  Malic_acid   Ash  Alcalinity_of_ash  Magnesium  Total_phenols  \\\n",
              "0      14.23        1.71  2.43               15.6        127           2.80   \n",
              "1      13.20        1.78  2.14               11.2        100           2.65   \n",
              "2      13.16        2.36  2.67               18.6        101           2.80   \n",
              "3      14.37        1.95  2.50               16.8        113           3.85   \n",
              "4      13.24        2.59  2.87               21.0        118           2.80   \n",
              "..       ...         ...   ...                ...        ...            ...   \n",
              "173    13.71        5.65  2.45               20.5         95           1.68   \n",
              "174    13.40        3.91  2.48               23.0        102           1.80   \n",
              "175    13.27        4.28  2.26               20.0        120           1.59   \n",
              "176    13.17        2.59  2.37               20.0        120           1.65   \n",
              "177    14.13        4.10  2.74               24.5         96           2.05   \n",
              "\n",
              "     Flavanoids  Nonflavanoid_phenols  Proanthocyanins  Color_intensity   Hue  \\\n",
              "0          3.06                  0.28             2.29             5.64  1.04   \n",
              "1          2.76                  0.26             1.28             4.38  1.05   \n",
              "2          3.24                  0.30             2.81             5.68  1.03   \n",
              "3          3.49                  0.24             2.18             7.80  0.86   \n",
              "4          2.69                  0.39             1.82             4.32  1.04   \n",
              "..          ...                   ...              ...              ...   ...   \n",
              "173        0.61                  0.52             1.06             7.70  0.64   \n",
              "174        0.75                  0.43             1.41             7.30  0.70   \n",
              "175        0.69                  0.43             1.35            10.20  0.59   \n",
              "176        0.68                  0.53             1.46             9.30  0.60   \n",
              "177        0.76                  0.56             1.35             9.20  0.61   \n",
              "\n",
              "     OD280-OD315_of_diluted_wines  Proline  \n",
              "0                            3.92     1065  \n",
              "1                            3.40     1050  \n",
              "2                            3.17     1185  \n",
              "3                            3.45     1480  \n",
              "4                            2.93      735  \n",
              "..                            ...      ...  \n",
              "173                          1.74      740  \n",
              "174                          1.56      750  \n",
              "175                          1.56      835  \n",
              "176                          1.62      840  \n",
              "177                          1.60      560  \n",
              "\n",
              "[178 rows x 13 columns]"
            ]
          },
          "execution_count": 9,
          "metadata": {},
          "output_type": "execute_result"
        }
      ],
      "source": [
        "X"
      ]
    },
    {
      "cell_type": "code",
      "execution_count": null,
      "id": "f66fb614",
      "metadata": {
        "id": "f66fb614",
        "outputId": "5e9a461f-3828-447d-cea5-dc76abc366bc"
      },
      "outputs": [
        {
          "data": {
            "text/plain": [
              "pandas.core.series.Series"
            ]
          },
          "execution_count": 10,
          "metadata": {},
          "output_type": "execute_result"
        }
      ],
      "source": [
        "type (y )"
      ]
    },
    {
      "cell_type": "code",
      "execution_count": null,
      "id": "d89b54a6",
      "metadata": {
        "id": "d89b54a6",
        "outputId": "7783cf2d-4a27-475e-e2b3-d025e3f74383"
      },
      "outputs": [
        {
          "data": {
            "text/plain": [
              "2    71\n",
              "1    59\n",
              "3    48\n",
              "Name: Class, dtype: int64"
            ]
          },
          "execution_count": 11,
          "metadata": {},
          "output_type": "execute_result"
        }
      ],
      "source": [
        "# aggregate :  counting\n",
        "y.value_counts()"
      ]
    },
    {
      "cell_type": "code",
      "execution_count": null,
      "id": "b2523b7e",
      "metadata": {
        "id": "b2523b7e",
        "outputId": "ef33ab0f-02cd-43d9-9a26-5fa35b5f9a8d"
      },
      "outputs": [
        {
          "data": {
            "text/plain": [
              "0      1\n",
              "1      1\n",
              "2      1\n",
              "3      1\n",
              "4      1\n",
              "      ..\n",
              "173    3\n",
              "174    3\n",
              "175    3\n",
              "176    3\n",
              "177    3\n",
              "Name: Class, Length: 178, dtype: int64"
            ]
          },
          "execution_count": 12,
          "metadata": {},
          "output_type": "execute_result"
        }
      ],
      "source": [
        "y"
      ]
    },
    {
      "cell_type": "code",
      "execution_count": null,
      "id": "ddf0419e",
      "metadata": {
        "id": "ddf0419e"
      },
      "outputs": [],
      "source": [
        "# DONT drop : no meaning : dummy var trap\n",
        "y_cat = pd.get_dummies(y)"
      ]
    },
    {
      "cell_type": "code",
      "execution_count": null,
      "id": "056bd0f4",
      "metadata": {
        "id": "056bd0f4",
        "outputId": "2949590e-d6ee-4290-ad1e-48042b421263"
      },
      "outputs": [
        {
          "data": {
            "text/html": [
              "<div>\n",
              "<style scoped>\n",
              "    .dataframe tbody tr th:only-of-type {\n",
              "        vertical-align: middle;\n",
              "    }\n",
              "\n",
              "    .dataframe tbody tr th {\n",
              "        vertical-align: top;\n",
              "    }\n",
              "\n",
              "    .dataframe thead th {\n",
              "        text-align: right;\n",
              "    }\n",
              "</style>\n",
              "<table border=\"1\" class=\"dataframe\">\n",
              "  <thead>\n",
              "    <tr style=\"text-align: right;\">\n",
              "      <th></th>\n",
              "      <th>1</th>\n",
              "      <th>2</th>\n",
              "      <th>3</th>\n",
              "    </tr>\n",
              "  </thead>\n",
              "  <tbody>\n",
              "    <tr>\n",
              "      <th>0</th>\n",
              "      <td>1</td>\n",
              "      <td>0</td>\n",
              "      <td>0</td>\n",
              "    </tr>\n",
              "    <tr>\n",
              "      <th>1</th>\n",
              "      <td>1</td>\n",
              "      <td>0</td>\n",
              "      <td>0</td>\n",
              "    </tr>\n",
              "    <tr>\n",
              "      <th>2</th>\n",
              "      <td>1</td>\n",
              "      <td>0</td>\n",
              "      <td>0</td>\n",
              "    </tr>\n",
              "    <tr>\n",
              "      <th>3</th>\n",
              "      <td>1</td>\n",
              "      <td>0</td>\n",
              "      <td>0</td>\n",
              "    </tr>\n",
              "    <tr>\n",
              "      <th>4</th>\n",
              "      <td>1</td>\n",
              "      <td>0</td>\n",
              "      <td>0</td>\n",
              "    </tr>\n",
              "    <tr>\n",
              "      <th>...</th>\n",
              "      <td>...</td>\n",
              "      <td>...</td>\n",
              "      <td>...</td>\n",
              "    </tr>\n",
              "    <tr>\n",
              "      <th>173</th>\n",
              "      <td>0</td>\n",
              "      <td>0</td>\n",
              "      <td>1</td>\n",
              "    </tr>\n",
              "    <tr>\n",
              "      <th>174</th>\n",
              "      <td>0</td>\n",
              "      <td>0</td>\n",
              "      <td>1</td>\n",
              "    </tr>\n",
              "    <tr>\n",
              "      <th>175</th>\n",
              "      <td>0</td>\n",
              "      <td>0</td>\n",
              "      <td>1</td>\n",
              "    </tr>\n",
              "    <tr>\n",
              "      <th>176</th>\n",
              "      <td>0</td>\n",
              "      <td>0</td>\n",
              "      <td>1</td>\n",
              "    </tr>\n",
              "    <tr>\n",
              "      <th>177</th>\n",
              "      <td>0</td>\n",
              "      <td>0</td>\n",
              "      <td>1</td>\n",
              "    </tr>\n",
              "  </tbody>\n",
              "</table>\n",
              "<p>178 rows × 3 columns</p>\n",
              "</div>"
            ],
            "text/plain": [
              "     1  2  3\n",
              "0    1  0  0\n",
              "1    1  0  0\n",
              "2    1  0  0\n",
              "3    1  0  0\n",
              "4    1  0  0\n",
              "..  .. .. ..\n",
              "173  0  0  1\n",
              "174  0  0  1\n",
              "175  0  0  1\n",
              "176  0  0  1\n",
              "177  0  0  1\n",
              "\n",
              "[178 rows x 3 columns]"
            ]
          },
          "execution_count": 14,
          "metadata": {},
          "output_type": "execute_result"
        }
      ],
      "source": [
        "y_cat"
      ]
    },
    {
      "cell_type": "code",
      "execution_count": null,
      "id": "2695b15d",
      "metadata": {
        "id": "2695b15d"
      },
      "outputs": [],
      "source": [
        "in_shape = X.shape[1]"
      ]
    },
    {
      "cell_type": "code",
      "execution_count": null,
      "id": "81d54ba5",
      "metadata": {
        "id": "81d54ba5",
        "outputId": "5daaf0b8-3db6-46b3-ccf3-fcd3efa25844"
      },
      "outputs": [
        {
          "data": {
            "text/plain": [
              "13"
            ]
          },
          "execution_count": 16,
          "metadata": {},
          "output_type": "execute_result"
        }
      ],
      "source": [
        "in_shape"
      ]
    },
    {
      "cell_type": "code",
      "execution_count": null,
      "id": "99438b87",
      "metadata": {
        "id": "99438b87"
      },
      "outputs": [],
      "source": [
        "import seaborn as sns"
      ]
    },
    {
      "cell_type": "code",
      "execution_count": null,
      "id": "c03223c0",
      "metadata": {
        "id": "c03223c0",
        "outputId": "c14f1b38-8d6a-4c65-d30f-eaca4de2358f"
      },
      "outputs": [
        {
          "data": {
            "text/plain": [
              "<AxesSubplot:xlabel='Alcohol', ylabel='Class'>"
            ]
          },
          "execution_count": 18,
          "metadata": {},
          "output_type": "execute_result"
        },
        {
          "data": {
            "image/png": "[encoded data removed]",
            "text/plain": [
              "<Figure size 432x288 with 1 Axes>"
            ]
          },
          "metadata": {
            "needs_background": "light"
          },
          "output_type": "display_data"
        }
      ],
      "source": [
        "sns.scatterplot(x='Alcohol' , y='Class',  data=dataset)"
      ]
    },
    {
      "cell_type": "code",
      "execution_count": null,
      "id": "177410e6",
      "metadata": {
        "id": "177410e6"
      },
      "outputs": [],
      "source": [
        "from keras.models import Sequential"
      ]
    },
    {
      "cell_type": "code",
      "execution_count": null,
      "id": "11ed24ae",
      "metadata": {
        "id": "11ed24ae"
      },
      "outputs": [],
      "source": [
        "model = Sequential()"
      ]
    },
    {
      "cell_type": "code",
      "execution_count": null,
      "id": "eb9f4f85",
      "metadata": {
        "id": "eb9f4f85"
      },
      "outputs": [],
      "source": [
        "from keras.layers import Dense"
      ]
    },
    {
      "cell_type": "code",
      "execution_count": null,
      "id": "39403db4",
      "metadata": {
        "id": "39403db4",
        "outputId": "fbbbabc6-301b-4b9f-bf68-379aa1d704da"
      },
      "outputs": [
        {
          "data": {
            "text/plain": [
              "{'name': 'sequential', 'layers': []}"
            ]
          },
          "execution_count": 22,
          "metadata": {},
          "output_type": "execute_result"
        }
      ],
      "source": [
        "model.get_config()"
      ]
    },
    {
      "cell_type": "code",
      "execution_count": null,
      "id": "993fba53",
      "metadata": {
        "id": "993fba53"
      },
      "outputs": [],
      "source": [
        "model.add( Dense(\n",
        "        units = 6,\n",
        "        input_shape = (in_shape, ),\n",
        "        activation = 'relu',\n",
        "        kernel_initializer = \"he_normal\",\n",
        ") )"
      ]
    },
    {
      "cell_type": "code",
      "execution_count": null,
      "id": "f9094b1c",
      "metadata": {
        "id": "f9094b1c",
        "outputId": "b7fcda8e-f2ba-446b-cdb7-55ad70bb6f71"
      },
      "outputs": [
        {
          "data": {
            "text/plain": [
              "{'name': 'sequential',\n",
              " 'layers': [{'class_name': 'InputLayer',\n",
              "   'config': {'batch_input_shape': (None, 13),\n",
              "    'dtype': 'float32',\n",
              "    'sparse': False,\n",
              "    'ragged': False,\n",
              "    'name': 'dense_input'}},\n",
              "  {'class_name': 'Dense',\n",
              "   'config': {'name': 'dense',\n",
              "    'trainable': True,\n",
              "    'batch_input_shape': (None, 13),\n",
              "    'dtype': 'float32',\n",
              "    'units': 6,\n",
              "    'activation': 'relu',\n",
              "    'use_bias': True,\n",
              "    'kernel_initializer': {'class_name': 'HeNormal', 'config': {'seed': None}},\n",
              "    'bias_initializer': {'class_name': 'Zeros', 'config': {}},\n",
              "    'kernel_regularizer': None,\n",
              "    'bias_regularizer': None,\n",
              "    'activity_regularizer': None,\n",
              "    'kernel_constraint': None,\n",
              "    'bias_constraint': None}}]}"
            ]
          },
          "execution_count": 24,
          "metadata": {},
          "output_type": "execute_result"
        }
      ],
      "source": [
        "model.get_config()"
      ]
    },
    {
      "cell_type": "code",
      "execution_count": null,
      "id": "8b475e54",
      "metadata": {
        "id": "8b475e54"
      },
      "outputs": [],
      "source": [
        "model.add( Dense(\n",
        "        units = 4,\n",
        "        activation = 'relu',\n",
        "        kernel_initializer = \"he_normal\",\n",
        ") )"
      ]
    },
    {
      "cell_type": "code",
      "execution_count": null,
      "id": "59f92497",
      "metadata": {
        "id": "59f92497"
      },
      "outputs": [],
      "source": [
        "model.add( Dense(\n",
        "        units = 4,\n",
        "        activation = 'relu',\n",
        "        kernel_initializer = \"he_normal\",\n",
        ") )"
      ]
    },
    {
      "cell_type": "code",
      "execution_count": null,
      "id": "e6316a56",
      "metadata": {
        "id": "e6316a56"
      },
      "outputs": [],
      "source": [
        "# output layer"
      ]
    },
    {
      "cell_type": "code",
      "execution_count": null,
      "id": "666b3af0",
      "metadata": {
        "id": "666b3af0"
      },
      "outputs": [],
      "source": [
        "model.add( Dense(\n",
        "        units = 3,\n",
        "        activation = 'softmax',\n",
        ") )"
      ]
    },
    {
      "cell_type": "code",
      "execution_count": null,
      "id": "2e73c17a",
      "metadata": {
        "id": "2e73c17a",
        "outputId": "715f85e2-2854-417f-bdb6-6b53e97fab84"
      },
      "outputs": [
        {
          "name": "stdout",
          "output_type": "stream",
          "text": [
            "Model: \"sequential\"\n",
            "_________________________________________________________________\n",
            " Layer (type)                Output Shape              Param #   \n",
            "=================================================================\n",
            " dense (Dense)               (None, 6)                 84        \n",
            "                                                                 \n",
            " dense_1 (Dense)             (None, 4)                 28        \n",
            "                                                                 \n",
            " dense_2 (Dense)             (None, 4)                 20        \n",
            "                                                                 \n",
            " dense_3 (Dense)             (None, 3)                 15        \n",
            "                                                                 \n",
            "=================================================================\n",
            "Total params: 147\n",
            "Trainable params: 147\n",
            "Non-trainable params: 0\n",
            "_________________________________________________________________\n"
          ]
        }
      ],
      "source": [
        "model.summary()"
      ]
    },
    {
      "cell_type": "code",
      "execution_count": null,
      "id": "f67bb857",
      "metadata": {
        "id": "f67bb857"
      },
      "outputs": [],
      "source": [
        "model.compile(optimizer=\"adam\" , loss=\"categorical_crossentropy\", \n",
        "             metrics = [ 'accuracy' ]\n",
        "             )"
      ]
    },
    {
      "cell_type": "code",
      "execution_count": null,
      "id": "bcc444c5",
      "metadata": {
        "scrolled": false,
        "id": "bcc444c5",
        "outputId": "6de65861-7d85-45d8-9ad7-2448adc32271"
      },
      "outputs": [
        {
          "name": "stdout",
          "output_type": "stream",
          "text": [
            "Epoch 1/90\n",
            "6/6 [==============================] - 1s 2ms/step - loss: 86.2003 - accuracy: 0.2697\n",
            "Epoch 2/90\n",
            "6/6 [==============================] - 0s 2ms/step - loss: 71.3734 - accuracy: 0.2697\n",
            "Epoch 3/90\n",
            "6/6 [==============================] - 0s 3ms/step - loss: 58.5444 - accuracy: 0.2697\n",
            "Epoch 4/90\n",
            "6/6 [==============================] - 0s 4ms/step - loss: 46.7069 - accuracy: 0.2697\n",
            "Epoch 5/90\n",
            "6/6 [==============================] - 0s 3ms/step - loss: 37.2558 - accuracy: 0.2697\n",
            "Epoch 6/90\n",
            "6/6 [==============================] - 0s 3ms/step - loss: 28.7868 - accuracy: 0.2809\n",
            "Epoch 7/90\n",
            "6/6 [==============================] - 0s 4ms/step - loss: 23.8717 - accuracy: 0.3989\n",
            "Epoch 8/90\n",
            "6/6 [==============================] - 0s 3ms/step - loss: 19.9316 - accuracy: 0.3989\n",
            "Epoch 9/90\n",
            "6/6 [==============================] - 0s 4ms/step - loss: 16.2772 - accuracy: 0.3989\n",
            "Epoch 10/90\n",
            "6/6 [==============================] - 0s 5ms/step - loss: 12.9066 - accuracy: 0.3989\n",
            "Epoch 11/90\n",
            "6/6 [==============================] - 0s 4ms/step - loss: 9.9817 - accuracy: 0.3989\n",
            "Epoch 12/90\n",
            "6/6 [==============================] - 0s 3ms/step - loss: 7.6184 - accuracy: 0.4101\n",
            "Epoch 13/90\n",
            "6/6 [==============================] - 0s 3ms/step - loss: 5.5790 - accuracy: 0.4045\n",
            "Epoch 14/90\n",
            "6/6 [==============================] - 0s 4ms/step - loss: 3.7579 - accuracy: 0.2809\n",
            "Epoch 15/90\n",
            "6/6 [==============================] - 0s 3ms/step - loss: 2.3255 - accuracy: 0.1461\n",
            "Epoch 16/90\n",
            "6/6 [==============================] - 0s 3ms/step - loss: 1.3280 - accuracy: 0.1910\n",
            "Epoch 17/90\n",
            "6/6 [==============================] - 0s 4ms/step - loss: 1.0964 - accuracy: 0.3315\n",
            "Epoch 18/90\n",
            "6/6 [==============================] - 0s 3ms/step - loss: 1.0965 - accuracy: 0.3315\n",
            "Epoch 19/90\n",
            "6/6 [==============================] - 0s 3ms/step - loss: 1.0963 - accuracy: 0.3315\n",
            "Epoch 20/90\n",
            "6/6 [==============================] - 0s 5ms/step - loss: 1.0961 - accuracy: 0.3315\n",
            "Epoch 21/90\n",
            "6/6 [==============================] - 0s 4ms/step - loss: 1.0959 - accuracy: 0.3315\n",
            "Epoch 22/90\n",
            "6/6 [==============================] - 0s 4ms/step - loss: 1.0958 - accuracy: 0.3315\n",
            "Epoch 23/90\n",
            "6/6 [==============================] - 0s 3ms/step - loss: 1.0955 - accuracy: 0.3315\n",
            "Epoch 24/90\n",
            "6/6 [==============================] - 0s 4ms/step - loss: 1.0954 - accuracy: 0.3315\n",
            "Epoch 25/90\n",
            "6/6 [==============================] - 0s 4ms/step - loss: 1.0952 - accuracy: 0.3315\n",
            "Epoch 26/90\n",
            "6/6 [==============================] - 0s 4ms/step - loss: 1.0949 - accuracy: 0.3315\n",
            "Epoch 27/90\n",
            "6/6 [==============================] - 0s 3ms/step - loss: 1.0948 - accuracy: 0.3315\n",
            "Epoch 28/90\n",
            "6/6 [==============================] - 0s 3ms/step - loss: 1.0945 - accuracy: 0.3315\n",
            "Epoch 29/90\n",
            "6/6 [==============================] - 0s 5ms/step - loss: 1.0943 - accuracy: 0.3315\n",
            "Epoch 30/90\n",
            "6/6 [==============================] - 0s 4ms/step - loss: 1.0940 - accuracy: 0.3315\n",
            "Epoch 31/90\n",
            "6/6 [==============================] - 0s 4ms/step - loss: 1.0938 - accuracy: 0.3315\n",
            "Epoch 32/90\n",
            "6/6 [==============================] - 0s 4ms/step - loss: 1.0937 - accuracy: 0.3315\n",
            "Epoch 33/90\n",
            "6/6 [==============================] - 0s 4ms/step - loss: 1.0934 - accuracy: 0.3315\n",
            "Epoch 34/90\n",
            "6/6 [==============================] - 0s 4ms/step - loss: 1.0932 - accuracy: 0.3315\n",
            "Epoch 35/90\n",
            "6/6 [==============================] - 0s 3ms/step - loss: 1.0930 - accuracy: 0.3315\n",
            "Epoch 36/90\n",
            "6/6 [==============================] - 0s 3ms/step - loss: 1.0928 - accuracy: 0.3315\n",
            "Epoch 37/90\n",
            "6/6 [==============================] - 0s 5ms/step - loss: 1.0926 - accuracy: 0.3315\n",
            "Epoch 38/90\n",
            "6/6 [==============================] - 0s 3ms/step - loss: 1.0924 - accuracy: 0.3315\n",
            "Epoch 39/90\n",
            "6/6 [==============================] - 0s 4ms/step - loss: 1.0923 - accuracy: 0.3315\n",
            "Epoch 40/90\n",
            "6/6 [==============================] - 0s 3ms/step - loss: 1.0921 - accuracy: 0.3315\n",
            "Epoch 41/90\n",
            "6/6 [==============================] - 0s 4ms/step - loss: 1.0919 - accuracy: 0.3315\n",
            "Epoch 42/90\n",
            "6/6 [==============================] - 0s 4ms/step - loss: 1.0917 - accuracy: 0.3315\n",
            "Epoch 43/90\n",
            "6/6 [==============================] - 0s 3ms/step - loss: 1.0915 - accuracy: 0.3315\n",
            "Epoch 44/90\n",
            "6/6 [==============================] - 0s 3ms/step - loss: 1.0914 - accuracy: 0.3315\n",
            "Epoch 45/90\n",
            "6/6 [==============================] - 0s 4ms/step - loss: 1.0911 - accuracy: 0.3315\n",
            "Epoch 46/90\n",
            "6/6 [==============================] - 0s 4ms/step - loss: 1.0910 - accuracy: 0.3315\n",
            "Epoch 47/90\n",
            "6/6 [==============================] - 0s 3ms/step - loss: 1.0909 - accuracy: 0.3315\n",
            "Epoch 48/90\n",
            "6/6 [==============================] - 0s 3ms/step - loss: 1.0907 - accuracy: 0.3315\n",
            "Epoch 49/90\n",
            "6/6 [==============================] - 0s 5ms/step - loss: 1.0905 - accuracy: 0.3315\n",
            "Epoch 50/90\n",
            "6/6 [==============================] - 0s 4ms/step - loss: 1.0904 - accuracy: 0.3315\n",
            "Epoch 51/90\n",
            "6/6 [==============================] - 0s 4ms/step - loss: 1.0902 - accuracy: 0.3315\n",
            "Epoch 52/90\n",
            "6/6 [==============================] - 0s 3ms/step - loss: 1.0900 - accuracy: 0.3315\n",
            "Epoch 53/90\n",
            "6/6 [==============================] - 0s 4ms/step - loss: 1.0899 - accuracy: 0.3315\n",
            "Epoch 54/90\n",
            "6/6 [==============================] - 0s 5ms/step - loss: 1.0897 - accuracy: 0.3315\n",
            "Epoch 55/90\n",
            "6/6 [==============================] - 0s 3ms/step - loss: 1.0896 - accuracy: 0.3315\n",
            "Epoch 56/90\n",
            "6/6 [==============================] - 0s 3ms/step - loss: 1.0895 - accuracy: 0.3539\n",
            "Epoch 57/90\n",
            "6/6 [==============================] - 0s 4ms/step - loss: 1.0894 - accuracy: 0.3989\n",
            "Epoch 58/90\n",
            "6/6 [==============================] - 0s 4ms/step - loss: 1.0892 - accuracy: 0.3989\n",
            "Epoch 59/90\n",
            "6/6 [==============================] - 0s 4ms/step - loss: 1.0892 - accuracy: 0.3989\n",
            "Epoch 60/90\n",
            "6/6 [==============================] - 0s 3ms/step - loss: 1.0891 - accuracy: 0.3989\n",
            "Epoch 61/90\n",
            "6/6 [==============================] - 0s 3ms/step - loss: 1.0890 - accuracy: 0.3989\n",
            "Epoch 62/90\n",
            "6/6 [==============================] - 0s 4ms/step - loss: 1.0888 - accuracy: 0.3989\n",
            "Epoch 63/90\n",
            "6/6 [==============================] - 0s 3ms/step - loss: 1.0887 - accuracy: 0.3989\n",
            "Epoch 64/90\n",
            "6/6 [==============================] - 0s 3ms/step - loss: 1.0886 - accuracy: 0.3989\n",
            "Epoch 65/90\n",
            "6/6 [==============================] - 0s 4ms/step - loss: 1.0886 - accuracy: 0.3989\n",
            "Epoch 66/90\n",
            "6/6 [==============================] - 0s 4ms/step - loss: 1.0885 - accuracy: 0.3989\n",
            "Epoch 67/90\n",
            "6/6 [==============================] - 0s 4ms/step - loss: 1.0883 - accuracy: 0.3989\n",
            "Epoch 68/90\n",
            "6/6 [==============================] - 0s 3ms/step - loss: 1.0883 - accuracy: 0.3989\n",
            "Epoch 69/90\n",
            "6/6 [==============================] - 0s 4ms/step - loss: 1.0882 - accuracy: 0.3989\n",
            "Epoch 70/90\n",
            "6/6 [==============================] - 0s 4ms/step - loss: 1.0881 - accuracy: 0.3989\n",
            "Epoch 71/90\n",
            "6/6 [==============================] - 0s 4ms/step - loss: 1.0881 - accuracy: 0.3989\n",
            "Epoch 72/90\n",
            "6/6 [==============================] - 0s 4ms/step - loss: 1.0880 - accuracy: 0.3989\n",
            "Epoch 73/90\n",
            "6/6 [==============================] - 0s 4ms/step - loss: 1.0879 - accuracy: 0.3989\n",
            "Epoch 74/90\n",
            "6/6 [==============================] - 0s 5ms/step - loss: 1.0878 - accuracy: 0.3989\n",
            "Epoch 75/90\n",
            "6/6 [==============================] - 0s 3ms/step - loss: 1.0878 - accuracy: 0.3989\n",
            "Epoch 76/90\n",
            "6/6 [==============================] - 0s 4ms/step - loss: 1.0876 - accuracy: 0.3989\n",
            "Epoch 77/90\n",
            "6/6 [==============================] - 0s 4ms/step - loss: 1.0876 - accuracy: 0.3989\n",
            "Epoch 78/90\n",
            "6/6 [==============================] - 0s 5ms/step - loss: 1.0875 - accuracy: 0.3989\n",
            "Epoch 79/90\n",
            "6/6 [==============================] - 0s 4ms/step - loss: 1.0875 - accuracy: 0.3989\n",
            "Epoch 80/90\n",
            "6/6 [==============================] - 0s 4ms/step - loss: 1.0874 - accuracy: 0.3989\n",
            "Epoch 81/90\n",
            "6/6 [==============================] - 0s 4ms/step - loss: 1.0873 - accuracy: 0.3989\n",
            "Epoch 82/90\n",
            "6/6 [==============================] - 0s 4ms/step - loss: 1.0873 - accuracy: 0.3989\n",
            "Epoch 83/90\n",
            "6/6 [==============================] - 0s 4ms/step - loss: 1.0872 - accuracy: 0.3989\n",
            "Epoch 84/90\n",
            "6/6 [==============================] - 0s 3ms/step - loss: 1.0872 - accuracy: 0.3989\n",
            "Epoch 85/90\n"
          ]
        },
        {
          "name": "stdout",
          "output_type": "stream",
          "text": [
            "6/6 [==============================] - 0s 4ms/step - loss: 1.0872 - accuracy: 0.3989\n",
            "Epoch 86/90\n",
            "6/6 [==============================] - 0s 4ms/step - loss: 1.0871 - accuracy: 0.3989\n",
            "Epoch 87/90\n",
            "6/6 [==============================] - 0s 3ms/step - loss: 1.0870 - accuracy: 0.3989\n",
            "Epoch 88/90\n",
            "6/6 [==============================] - 0s 5ms/step - loss: 1.0870 - accuracy: 0.3989\n",
            "Epoch 89/90\n",
            "6/6 [==============================] - 0s 3ms/step - loss: 1.0870 - accuracy: 0.3989\n",
            "Epoch 90/90\n",
            "6/6 [==============================] - 0s 3ms/step - loss: 1.0869 - accuracy: 0.3989\n"
          ]
        },
        {
          "data": {
            "text/plain": [
              "<keras.callbacks.History at 0x29556c08fd0>"
            ]
          },
          "execution_count": 31,
          "metadata": {},
          "output_type": "execute_result"
        }
      ],
      "source": [
        "model.fit(X , y_cat, epochs=90)"
      ]
    },
    {
      "cell_type": "code",
      "execution_count": null,
      "id": "ce3e3161",
      "metadata": {
        "id": "ce3e3161",
        "outputId": "2fcbbfb9-7663-4cb2-c1df-81a0e816870d"
      },
      "outputs": [
        {
          "data": {
            "text/plain": [
              "[array([[-0.49713406,  0.5198352 ,  0.44463104,  0.13859567, -0.41582417,\n",
              "         -0.1436674 ],\n",
              "        [-0.02974587, -0.24304587, -0.80023015,  0.2290415 ,  0.02195377,\n",
              "         -0.5765258 ],\n",
              "        [-0.1697205 ,  0.13865623,  0.05672572, -0.16201131,  0.11544322,\n",
              "          0.6077163 ],\n",
              "        [ 0.3217404 ,  0.29490128,  0.3551542 ,  0.14832091, -0.14368518,\n",
              "         -0.619227  ],\n",
              "        [ 0.22859092, -0.26481628, -0.53411794, -0.06710171, -0.00587095,\n",
              "          0.34302047],\n",
              "        [ 0.47046733, -0.13370861, -0.05604387, -0.4416542 ,  0.7099129 ,\n",
              "         -0.2359871 ],\n",
              "        [-0.23690833,  0.24800512,  0.14289516, -0.2755953 , -0.48133194,\n",
              "          0.33449924],\n",
              "        [-0.21880472, -0.2276684 , -0.17983717,  0.4143749 , -0.06096385,\n",
              "         -0.1260804 ],\n",
              "        [ 0.04845837,  0.21963987, -0.0169569 , -0.6256245 , -0.6810886 ,\n",
              "          0.13214828],\n",
              "        [ 0.01921795, -0.14632139, -0.32746208, -0.01275468,  0.27976534,\n",
              "          0.5992693 ],\n",
              "        [ 0.06167192,  0.14366391,  0.26592347,  0.08765703,  0.26293248,\n",
              "          0.24528544],\n",
              "        [ 0.31920072,  0.6625001 ,  0.33896345,  0.37550205, -0.11570513,\n",
              "         -0.01115544],\n",
              "        [ 0.6434134 ,  0.6116807 ,  0.02186469,  0.17507334, -0.4599253 ,\n",
              "          0.0582534 ]], dtype=float32),\n",
              " array([ 0.07317297, -0.07052916, -0.01973961,  0.07441993,  0.        ,\n",
              "        -0.06698152], dtype=float32),\n",
              " array([[-1.2184194 , -0.6049761 , -0.86340266, -0.7659872 ],\n",
              "        [ 0.45284402, -0.21763912,  1.0483407 , -0.6305712 ],\n",
              "        [ 0.42217746,  1.2596613 ,  0.20467483, -0.37097314],\n",
              "        [-0.3471394 ,  0.1149109 , -0.5603766 ,  1.1759776 ],\n",
              "        [-0.18214068, -0.71508545, -1.1918775 , -0.89137274],\n",
              "        [ 0.07351141, -0.23279466,  0.19527717, -0.7430118 ]],\n",
              "       dtype=float32),\n",
              " array([ 0.        ,  0.        , -0.07162221,  0.        ], dtype=float32),\n",
              " array([[ 9.3472880e-01, -5.9219700e-01, -3.3484274e-01,  4.1007400e-01],\n",
              "        [ 1.1442471e+00,  1.5437932e-01,  8.9617729e-02,  2.5056654e-01],\n",
              "        [ 3.2535398e-01,  2.0425059e-01,  8.5562193e-01,  7.3213559e-01],\n",
              "        [ 1.0888294e-03,  4.2268552e-02,  2.5897714e-01, -1.1068175e+00]],\n",
              "       dtype=float32),\n",
              " array([ 0.05001957,  0.04724402,  0.10614134, -0.05626608], dtype=float32),\n",
              " array([[ 0.6935179 ,  0.1804775 , -0.33532873],\n",
              "        [ 0.9064897 ,  0.28690222, -0.23727006],\n",
              "        [ 0.33716178,  0.9329873 ,  0.19419111],\n",
              "        [-0.47914127, -0.44656688,  0.8040511 ]], dtype=float32),\n",
              " array([ 0.01887025,  0.10816994, -0.07468107], dtype=float32)]"
            ]
          },
          "execution_count": 32,
          "metadata": {},
          "output_type": "execute_result"
        }
      ],
      "source": [
        "model.get_weights()"
      ]
    },
    {
      "cell_type": "code",
      "execution_count": null,
      "id": "aa285d40",
      "metadata": {
        "id": "aa285d40"
      },
      "outputs": [],
      "source": [
        "myloss = model.history.history['loss']"
      ]
    },
    {
      "cell_type": "code",
      "execution_count": null,
      "id": "8913690d",
      "metadata": {
        "id": "8913690d",
        "outputId": "070c1391-2578-4630-a1f3-618245095295"
      },
      "outputs": [
        {
          "data": {
            "text/plain": [
              "list"
            ]
          },
          "execution_count": 34,
          "metadata": {},
          "output_type": "execute_result"
        }
      ],
      "source": [
        "type(myloss)"
      ]
    },
    {
      "cell_type": "code",
      "execution_count": null,
      "id": "663b8b81",
      "metadata": {
        "id": "663b8b81"
      },
      "outputs": [],
      "source": [
        "myloss_final = pd.DataFrame(myloss)"
      ]
    },
    {
      "cell_type": "code",
      "execution_count": null,
      "id": "a331dac6",
      "metadata": {
        "id": "a331dac6",
        "outputId": "6b27c64d-cf8a-411d-f31a-2c504e4caa8c"
      },
      "outputs": [
        {
          "data": {
            "text/plain": [
              "pandas.core.frame.DataFrame"
            ]
          },
          "execution_count": 36,
          "metadata": {},
          "output_type": "execute_result"
        }
      ],
      "source": [
        "type(myloss_final)"
      ]
    },
    {
      "cell_type": "code",
      "execution_count": null,
      "id": "12635550",
      "metadata": {
        "id": "12635550",
        "outputId": "0348b3f7-4daa-4fd1-b320-c23421175d06"
      },
      "outputs": [
        {
          "data": {
            "text/plain": [
              "<AxesSubplot:>"
            ]
          },
          "execution_count": 37,
          "metadata": {},
          "output_type": "execute_result"
        },
        {
          "data": {
            "image/png": "[encoded data removed]",
            "text/plain": [
              "<Figure size 432x288 with 1 Axes>"
            ]
          },
          "metadata": {
            "needs_background": "light"
          },
          "output_type": "display_data"
        }
      ],
      "source": [
        "myloss_final.plot()"
      ]
    },
    {
      "cell_type": "code",
      "execution_count": null,
      "id": "239790cc",
      "metadata": {
        "id": "239790cc"
      },
      "outputs": [],
      "source": [
        ""
      ]
    }
  ],
  "metadata": {
    "kernelspec": {
      "display_name": "Python 3",
      "language": "python",
      "name": "python3"
    },
    "language_info": {
      "codemirror_mode": {
        "name": "ipython",
        "version": 3
      },
      "file_extension": ".py",
      "mimetype": "text/x-python",
      "name": "python",
      "nbconvert_exporter": "python",
      "pygments_lexer": "ipython3",
      "version": "3.8.8"
    },
    "colab": {
      "name": "wines multi class NN.ipynb",
      "provenance": []
    }
  },
  "nbformat": 4,
  "nbformat_minor": 5
}